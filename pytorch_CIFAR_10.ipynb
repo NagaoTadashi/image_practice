{
  "nbformat": 4,
  "nbformat_minor": 0,
  "metadata": {
    "colab": {
      "name": "pytorch_CIFAR-10.ipynb",
      "provenance": [],
      "collapsed_sections": [],
      "authorship_tag": "ABX9TyNuEEBb0lPYX7wwYCf8uV+r",
      "include_colab_link": true
    },
    "kernelspec": {
      "name": "python3",
      "display_name": "Python 3"
    },
    "language_info": {
      "name": "python"
    },
    "accelerator": "GPU",
    "widgets": {
      "application/vnd.jupyter.widget-state+json": {
        "0b299ee3841745d6a5fd92bfe64f9359": {
          "model_module": "@jupyter-widgets/controls",
          "model_name": "HBoxModel",
          "model_module_version": "1.5.0",
          "state": {
            "_dom_classes": [],
            "_model_module": "@jupyter-widgets/controls",
            "_model_module_version": "1.5.0",
            "_model_name": "HBoxModel",
            "_view_count": null,
            "_view_module": "@jupyter-widgets/controls",
            "_view_module_version": "1.5.0",
            "_view_name": "HBoxView",
            "box_style": "",
            "children": [
              "IPY_MODEL_6a65b5c6409b4b8fa1bdb6ee9c79a70b",
              "IPY_MODEL_181ce27871744d4c8bec8eca1abd9f9b",
              "IPY_MODEL_2cc38b965d104260bad9b94697c7a664"
            ],
            "layout": "IPY_MODEL_9d392bdd1a4c4f3480bfad41b67907db"
          }
        },
        "6a65b5c6409b4b8fa1bdb6ee9c79a70b": {
          "model_module": "@jupyter-widgets/controls",
          "model_name": "HTMLModel",
          "model_module_version": "1.5.0",
          "state": {
            "_dom_classes": [],
            "_model_module": "@jupyter-widgets/controls",
            "_model_module_version": "1.5.0",
            "_model_name": "HTMLModel",
            "_view_count": null,
            "_view_module": "@jupyter-widgets/controls",
            "_view_module_version": "1.5.0",
            "_view_name": "HTMLView",
            "description": "",
            "description_tooltip": null,
            "layout": "IPY_MODEL_84e33d54d14842a7b7ee4026898caf10",
            "placeholder": "​",
            "style": "IPY_MODEL_3b1c4d82b60249d294b4e7ce8bf759d2",
            "value": ""
          }
        },
        "181ce27871744d4c8bec8eca1abd9f9b": {
          "model_module": "@jupyter-widgets/controls",
          "model_name": "FloatProgressModel",
          "model_module_version": "1.5.0",
          "state": {
            "_dom_classes": [],
            "_model_module": "@jupyter-widgets/controls",
            "_model_module_version": "1.5.0",
            "_model_name": "FloatProgressModel",
            "_view_count": null,
            "_view_module": "@jupyter-widgets/controls",
            "_view_module_version": "1.5.0",
            "_view_name": "ProgressView",
            "bar_style": "success",
            "description": "",
            "description_tooltip": null,
            "layout": "IPY_MODEL_cd2307c588b8463288e1cc319af85abd",
            "max": 170498071,
            "min": 0,
            "orientation": "horizontal",
            "style": "IPY_MODEL_2bdf57e7b54442b9a809ca4b9b44b818",
            "value": 170498071
          }
        },
        "2cc38b965d104260bad9b94697c7a664": {
          "model_module": "@jupyter-widgets/controls",
          "model_name": "HTMLModel",
          "model_module_version": "1.5.0",
          "state": {
            "_dom_classes": [],
            "_model_module": "@jupyter-widgets/controls",
            "_model_module_version": "1.5.0",
            "_model_name": "HTMLModel",
            "_view_count": null,
            "_view_module": "@jupyter-widgets/controls",
            "_view_module_version": "1.5.0",
            "_view_name": "HTMLView",
            "description": "",
            "description_tooltip": null,
            "layout": "IPY_MODEL_56f9506f91364d8390d17a9ce64344ba",
            "placeholder": "​",
            "style": "IPY_MODEL_c0f0d826bea941b49817a77105f2e673",
            "value": " 170499072/? [00:06&lt;00:00, 28910788.38it/s]"
          }
        },
        "9d392bdd1a4c4f3480bfad41b67907db": {
          "model_module": "@jupyter-widgets/base",
          "model_name": "LayoutModel",
          "model_module_version": "1.2.0",
          "state": {
            "_model_module": "@jupyter-widgets/base",
            "_model_module_version": "1.2.0",
            "_model_name": "LayoutModel",
            "_view_count": null,
            "_view_module": "@jupyter-widgets/base",
            "_view_module_version": "1.2.0",
            "_view_name": "LayoutView",
            "align_content": null,
            "align_items": null,
            "align_self": null,
            "border": null,
            "bottom": null,
            "display": null,
            "flex": null,
            "flex_flow": null,
            "grid_area": null,
            "grid_auto_columns": null,
            "grid_auto_flow": null,
            "grid_auto_rows": null,
            "grid_column": null,
            "grid_gap": null,
            "grid_row": null,
            "grid_template_areas": null,
            "grid_template_columns": null,
            "grid_template_rows": null,
            "height": null,
            "justify_content": null,
            "justify_items": null,
            "left": null,
            "margin": null,
            "max_height": null,
            "max_width": null,
            "min_height": null,
            "min_width": null,
            "object_fit": null,
            "object_position": null,
            "order": null,
            "overflow": null,
            "overflow_x": null,
            "overflow_y": null,
            "padding": null,
            "right": null,
            "top": null,
            "visibility": null,
            "width": null
          }
        },
        "84e33d54d14842a7b7ee4026898caf10": {
          "model_module": "@jupyter-widgets/base",
          "model_name": "LayoutModel",
          "model_module_version": "1.2.0",
          "state": {
            "_model_module": "@jupyter-widgets/base",
            "_model_module_version": "1.2.0",
            "_model_name": "LayoutModel",
            "_view_count": null,
            "_view_module": "@jupyter-widgets/base",
            "_view_module_version": "1.2.0",
            "_view_name": "LayoutView",
            "align_content": null,
            "align_items": null,
            "align_self": null,
            "border": null,
            "bottom": null,
            "display": null,
            "flex": null,
            "flex_flow": null,
            "grid_area": null,
            "grid_auto_columns": null,
            "grid_auto_flow": null,
            "grid_auto_rows": null,
            "grid_column": null,
            "grid_gap": null,
            "grid_row": null,
            "grid_template_areas": null,
            "grid_template_columns": null,
            "grid_template_rows": null,
            "height": null,
            "justify_content": null,
            "justify_items": null,
            "left": null,
            "margin": null,
            "max_height": null,
            "max_width": null,
            "min_height": null,
            "min_width": null,
            "object_fit": null,
            "object_position": null,
            "order": null,
            "overflow": null,
            "overflow_x": null,
            "overflow_y": null,
            "padding": null,
            "right": null,
            "top": null,
            "visibility": null,
            "width": null
          }
        },
        "3b1c4d82b60249d294b4e7ce8bf759d2": {
          "model_module": "@jupyter-widgets/controls",
          "model_name": "DescriptionStyleModel",
          "model_module_version": "1.5.0",
          "state": {
            "_model_module": "@jupyter-widgets/controls",
            "_model_module_version": "1.5.0",
            "_model_name": "DescriptionStyleModel",
            "_view_count": null,
            "_view_module": "@jupyter-widgets/base",
            "_view_module_version": "1.2.0",
            "_view_name": "StyleView",
            "description_width": ""
          }
        },
        "cd2307c588b8463288e1cc319af85abd": {
          "model_module": "@jupyter-widgets/base",
          "model_name": "LayoutModel",
          "model_module_version": "1.2.0",
          "state": {
            "_model_module": "@jupyter-widgets/base",
            "_model_module_version": "1.2.0",
            "_model_name": "LayoutModel",
            "_view_count": null,
            "_view_module": "@jupyter-widgets/base",
            "_view_module_version": "1.2.0",
            "_view_name": "LayoutView",
            "align_content": null,
            "align_items": null,
            "align_self": null,
            "border": null,
            "bottom": null,
            "display": null,
            "flex": null,
            "flex_flow": null,
            "grid_area": null,
            "grid_auto_columns": null,
            "grid_auto_flow": null,
            "grid_auto_rows": null,
            "grid_column": null,
            "grid_gap": null,
            "grid_row": null,
            "grid_template_areas": null,
            "grid_template_columns": null,
            "grid_template_rows": null,
            "height": null,
            "justify_content": null,
            "justify_items": null,
            "left": null,
            "margin": null,
            "max_height": null,
            "max_width": null,
            "min_height": null,
            "min_width": null,
            "object_fit": null,
            "object_position": null,
            "order": null,
            "overflow": null,
            "overflow_x": null,
            "overflow_y": null,
            "padding": null,
            "right": null,
            "top": null,
            "visibility": null,
            "width": null
          }
        },
        "2bdf57e7b54442b9a809ca4b9b44b818": {
          "model_module": "@jupyter-widgets/controls",
          "model_name": "ProgressStyleModel",
          "model_module_version": "1.5.0",
          "state": {
            "_model_module": "@jupyter-widgets/controls",
            "_model_module_version": "1.5.0",
            "_model_name": "ProgressStyleModel",
            "_view_count": null,
            "_view_module": "@jupyter-widgets/base",
            "_view_module_version": "1.2.0",
            "_view_name": "StyleView",
            "bar_color": null,
            "description_width": ""
          }
        },
        "56f9506f91364d8390d17a9ce64344ba": {
          "model_module": "@jupyter-widgets/base",
          "model_name": "LayoutModel",
          "model_module_version": "1.2.0",
          "state": {
            "_model_module": "@jupyter-widgets/base",
            "_model_module_version": "1.2.0",
            "_model_name": "LayoutModel",
            "_view_count": null,
            "_view_module": "@jupyter-widgets/base",
            "_view_module_version": "1.2.0",
            "_view_name": "LayoutView",
            "align_content": null,
            "align_items": null,
            "align_self": null,
            "border": null,
            "bottom": null,
            "display": null,
            "flex": null,
            "flex_flow": null,
            "grid_area": null,
            "grid_auto_columns": null,
            "grid_auto_flow": null,
            "grid_auto_rows": null,
            "grid_column": null,
            "grid_gap": null,
            "grid_row": null,
            "grid_template_areas": null,
            "grid_template_columns": null,
            "grid_template_rows": null,
            "height": null,
            "justify_content": null,
            "justify_items": null,
            "left": null,
            "margin": null,
            "max_height": null,
            "max_width": null,
            "min_height": null,
            "min_width": null,
            "object_fit": null,
            "object_position": null,
            "order": null,
            "overflow": null,
            "overflow_x": null,
            "overflow_y": null,
            "padding": null,
            "right": null,
            "top": null,
            "visibility": null,
            "width": null
          }
        },
        "c0f0d826bea941b49817a77105f2e673": {
          "model_module": "@jupyter-widgets/controls",
          "model_name": "DescriptionStyleModel",
          "model_module_version": "1.5.0",
          "state": {
            "_model_module": "@jupyter-widgets/controls",
            "_model_module_version": "1.5.0",
            "_model_name": "DescriptionStyleModel",
            "_view_count": null,
            "_view_module": "@jupyter-widgets/base",
            "_view_module_version": "1.2.0",
            "_view_name": "StyleView",
            "description_width": ""
          }
        }
      }
    }
  },
  "cells": [
    {
      "cell_type": "markdown",
      "metadata": {
        "id": "view-in-github",
        "colab_type": "text"
      },
      "source": [
        "<a href=\"https://colab.research.google.com/github/NagaoTadashi/image_practice/blob/master/pytorch_CIFAR_10.ipynb\" target=\"_parent\"><img src=\"https://colab.research.google.com/assets/colab-badge.svg\" alt=\"Open In Colab\"/></a>"
      ]
    },
    {
      "cell_type": "code",
      "execution_count": null,
      "metadata": {
        "id": "x7c0jUfaJEGb"
      },
      "outputs": [],
      "source": [
        "import torch \n",
        "import torchvision\n",
        "import torchvision.transforms as transforms\n",
        "from torchvision.datasets import vision\n",
        "import matplotlib.pyplot as plt\n",
        "import numpy as np\n",
        "import torch.nn as nn\n",
        "import torch.nn.functional as F\n",
        "import torch.optim as optimizer"
      ]
    },
    {
      "cell_type": "markdown",
      "source": [
        "transformを定義(データを0～１に正規化した後－1～1に正規化している)"
      ],
      "metadata": {
        "id": "kwVp98trO3mu"
      }
    },
    {
      "cell_type": "code",
      "source": [
        "transform=transforms.Compose([transforms.ToTensor(),transforms.Normalize((0.5,0.5,0.5),(0.5,0.5,0.5))])"
      ],
      "metadata": {
        "id": "3UGj2Mj8JL_v"
      },
      "execution_count": null,
      "outputs": []
    },
    {
      "cell_type": "markdown",
      "source": [
        "学習データと検証データの用意"
      ],
      "metadata": {
        "id": "7VTHAoCPO9K4"
      }
    },
    {
      "cell_type": "code",
      "source": [
        "train_data_with_teacher_labels=torchvision.datasets.CIFAR10(root=\"./data\",train=True,download=True,transform=transform)\n",
        "train_data_loader=torch.utils.data.DataLoader(train_data_with_teacher_labels,batch_size=4,shuffle=True,num_workers=2)\n",
        "\n",
        "test_data_with_teacher_labels=torchvision.datasets.CIFAR10(root=\"./data\",train=False,download=True,transform=transform)\n",
        "test_data_loader=torch.utils.data.DataLoader(test_data_with_teacher_labels,batch_size=4,shuffle=True,num_workers=2)"
      ],
      "metadata": {
        "colab": {
          "base_uri": "https://localhost:8080/",
          "height": 103,
          "referenced_widgets": [
            "0b299ee3841745d6a5fd92bfe64f9359",
            "6a65b5c6409b4b8fa1bdb6ee9c79a70b",
            "181ce27871744d4c8bec8eca1abd9f9b",
            "2cc38b965d104260bad9b94697c7a664",
            "9d392bdd1a4c4f3480bfad41b67907db",
            "84e33d54d14842a7b7ee4026898caf10",
            "3b1c4d82b60249d294b4e7ce8bf759d2",
            "cd2307c588b8463288e1cc319af85abd",
            "2bdf57e7b54442b9a809ca4b9b44b818",
            "56f9506f91364d8390d17a9ce64344ba",
            "c0f0d826bea941b49817a77105f2e673"
          ]
        },
        "id": "0-ydRByDJMCY",
        "outputId": "18ce10c7-4832-4342-859e-1c2e870046b5"
      },
      "execution_count": null,
      "outputs": [
        {
          "output_type": "stream",
          "name": "stdout",
          "text": [
            "Downloading https://www.cs.toronto.edu/~kriz/cifar-10-python.tar.gz to ./data/cifar-10-python.tar.gz\n"
          ]
        },
        {
          "output_type": "display_data",
          "data": {
            "text/plain": [
              "  0%|          | 0/170498071 [00:00<?, ?it/s]"
            ],
            "application/vnd.jupyter.widget-view+json": {
              "version_major": 2,
              "version_minor": 0,
              "model_id": "0b299ee3841745d6a5fd92bfe64f9359"
            }
          },
          "metadata": {}
        },
        {
          "output_type": "stream",
          "name": "stdout",
          "text": [
            "Extracting ./data/cifar-10-python.tar.gz to ./data\n",
            "Files already downloaded and verified\n"
          ]
        }
      ]
    },
    {
      "cell_type": "code",
      "source": [
        "print(len(train_data_with_teacher_labels))\n",
        "print(len(train_data_loader))\n",
        "print(len(test_data_with_teacher_labels))\n",
        "print(len(test_data_loader))"
      ],
      "metadata": {
        "colab": {
          "base_uri": "https://localhost:8080/"
        },
        "id": "A_AXAbN8JMHT",
        "outputId": "13f69c82-9251-4154-bef7-9709463db118"
      },
      "execution_count": null,
      "outputs": [
        {
          "output_type": "stream",
          "name": "stdout",
          "text": [
            "50000\n",
            "12500\n",
            "10000\n",
            "2500\n"
          ]
        }
      ]
    },
    {
      "cell_type": "markdown",
      "source": [
        "クラスの中身を設定"
      ],
      "metadata": {
        "id": "xs4kY6OxPDT0"
      }
    },
    {
      "cell_type": "code",
      "source": [
        "class_names=(\"plane\",\"car\",\"bird\",\"cat\",\"deer\",\"dog\",\"frog\",\"horse\",\"ship\",\"truck\")"
      ],
      "metadata": {
        "id": "mB2ElsrHJMKG"
      },
      "execution_count": null,
      "outputs": []
    },
    {
      "cell_type": "markdown",
      "source": [
        "画像を表示する関数"
      ],
      "metadata": {
        "id": "rBI3t6gcPN7x"
      }
    },
    {
      "cell_type": "code",
      "source": [
        "def show_image(img):\n",
        "  img=img/2+0.5\n",
        "  npimg=img.numpy()\n",
        "  plt.imshow(np.transpose(npimg,(1,2,0)))\n",
        "  plt.show()"
      ],
      "metadata": {
        "id": "dhwf8BLTJMMi"
      },
      "execution_count": null,
      "outputs": []
    },
    {
      "cell_type": "code",
      "source": [
        "data_iterator=iter(train_data_loader)\n",
        "images,labels=data_iterator.next()\n",
        "show_image(torchvision.utils.make_grid(images))"
      ],
      "metadata": {
        "colab": {
          "base_uri": "https://localhost:8080/",
          "height": 138
        },
        "id": "K2FA3BinJMPg",
        "outputId": "5d6092a1-e429-4ebb-b4c5-7b7ef5d5ed78"
      },
      "execution_count": null,
      "outputs": [
        {
          "output_type": "display_data",
          "data": {
            "text/plain": [
              "<Figure size 432x288 with 1 Axes>"
            ],
            "image/png": "[encoded data removed]"
          },
          "metadata": {
            "needs_background": "light"
          }
        }
      ]
    },
    {
      "cell_type": "markdown",
      "source": [
        "ニューラルネットワークの定義"
      ],
      "metadata": {
        "id": "G02e0KV5U9sZ"
      }
    },
    {
      "cell_type": "code",
      "source": [
        "class CNN(nn.Module):\n",
        "  def __init__(self):\n",
        "    super(CNN,self).__init__()\n",
        "    self.conv1=nn.Conv2d(3,6,5) #(入力ch数、フィルタ数(出力ch数)、フィルタサイズ)\n",
        "    self.pool=nn.MaxPool2d(2,2) #2×2のMaxプーリング\n",
        "    self.conv2=nn.Conv2d(6,16,5)\n",
        "    self.layer1=nn.Linear(16*5*5,120)\n",
        "    self.layer2=nn.Linear(120,84)\n",
        "    self.layer3=nn.Linear(84,10)\n",
        "\n",
        "  def forward(self,input_data):\n",
        "    input_data=self.conv1(input_data)\n",
        "    input_data=F.relu(input_data)\n",
        "    input_data=self.pool(input_data)\n",
        "    #input_data=self.pool(F.relu(self.conv1(input_data)))\n",
        "    input_data=self.conv2(input_data)\n",
        "    input_data=F.relu(input_data)\n",
        "    input_data=self.pool(input_data)\n",
        "    #input_data=self.pool(F.relu(self.conv2(input_data)))\n",
        "    input_data=input_data.view(-1,16*5*5)\n",
        "    input_data=self.layer1(input_data)\n",
        "    input_data=F.relu(input_data)\n",
        "    #input_data=F.relu(self.layer1(input_data))\n",
        "    input_data=self.layer2(input_data)\n",
        "    input_data=F.relu(input_data)\n",
        "    #input_data=F.relu(self.layer2(input_data))\n",
        "    input_data=self.layer3(input_data)\n",
        "    input_data=F.relu(input_data)\n",
        "    #input_data=F.relu(self.layer3(input_data))\n",
        "    return input_data\n",
        "  \n",
        "model=CNN()"
      ],
      "metadata": {
        "id": "1GL2Wnb0JMRL"
      },
      "execution_count": null,
      "outputs": []
    },
    {
      "cell_type": "markdown",
      "source": [
        "optimizerの設定"
      ],
      "metadata": {
        "id": "QgGrLvT-iNr5"
      }
    },
    {
      "cell_type": "code",
      "source": [
        "logloss=nn.CrossEntropyLoss()\n",
        "optimizer=optimizer.SGD(model.parameters(),lr=0.01)"
      ],
      "metadata": {
        "id": "PjAJTe3VJMTf"
      },
      "execution_count": null,
      "outputs": []
    },
    {
      "cell_type": "markdown",
      "source": [
        "学習"
      ],
      "metadata": {
        "id": "amZs1lh8lodz"
      }
    },
    {
      "cell_type": "code",
      "source": [
        "max_epoch=3\n",
        "for epoch in range(max_epoch):\n",
        "  for i ,data in enumerate(train_data_loader):\n",
        "    train_data,teacher_labels=data\n",
        "    optimizer.zero_grad()\n",
        "    #順伝搬\n",
        "    outputs=model(train_data)\n",
        "    #誤差を算出\n",
        "    loss=logloss(outputs,teacher_labels)\n",
        "    #誤差逆伝搬\n",
        "    loss.backward()\n",
        "    #重み更新\n",
        "    optimizer.step()"
      ],
      "metadata": {
        "id": "NmvjH1bfJMX5"
      },
      "execution_count": null,
      "outputs": []
    },
    {
      "cell_type": "markdown",
      "source": [
        "個別データで検証"
      ],
      "metadata": {
        "id": "iBAHc-x_pAyg"
      }
    },
    {
      "cell_type": "code",
      "source": [
        "data_iterator=iter(test_data_loader)\n",
        "images,labels=data_iterator.next()\n",
        "show_image(torchvision.utils.make_grid(images))\n",
        "for i in labels:\n",
        "  print(class_names[i])\n",
        "outputs=model(images)\n",
        "_,predicted=torch.max(outputs,1)\n",
        "for i in predicted:\n",
        "  print(class_names[i])"
      ],
      "metadata": {
        "id": "yG7rQs7lJMag",
        "colab": {
          "base_uri": "https://localhost:8080/",
          "height": 282
        },
        "outputId": "0d18c7b7-6ad0-4cd7-b0de-d9519017c38f"
      },
      "execution_count": null,
      "outputs": [
        {
          "output_type": "display_data",
          "data": {
            "text/plain": [
              "<Figure size 432x288 with 1 Axes>"
            ],
            "image/png": "[encoded data removed]"
          },
          "metadata": {
            "needs_background": "light"
          }
        },
        {
          "output_type": "stream",
          "name": "stdout",
          "text": [
            "bird\n",
            "deer\n",
            "plane\n",
            "deer\n",
            "bird\n",
            "frog\n",
            "plane\n",
            "dog\n"
          ]
        }
      ]
    },
    {
      "cell_type": "markdown",
      "source": [
        "検証"
      ],
      "metadata": {
        "id": "2bFino1upDS_"
      }
    },
    {
      "cell_type": "code",
      "source": [
        "total=0\n",
        "count_when_correct=0\n",
        "for data in test_data_loader:\n",
        "  test_data,teacher_labels=data\n",
        "  results=model(test_data)\n",
        "  _,predicted=torch.max(results,1)\n",
        "  total+=teacher_labels.size(0)\n",
        "  count_when_correct+=(predicted==teacher_labels).sum().item()\n",
        "print(count_when_correct)"
      ],
      "metadata": {
        "id": "ojL3DeaVJMc0",
        "colab": {
          "base_uri": "https://localhost:8080/"
        },
        "outputId": "33944903-6e86-4a7f-d88a-9728f4763941"
      },
      "execution_count": null,
      "outputs": [
        {
          "output_type": "stream",
          "name": "stdout",
          "text": [
            "5749\n"
          ]
        }
      ]
    }
  ]
}